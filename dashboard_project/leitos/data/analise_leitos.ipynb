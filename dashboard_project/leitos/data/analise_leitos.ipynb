{
 "cells": [
  {
   "cell_type": "code",
   "execution_count": 2,
   "id": "9f42da72",
   "metadata": {},
   "outputs": [],
   "source": [
    "# 1 - Importar Bibliotecas\n",
    "\n",
    "import pandas as pd\n",
    "import matplotlib.pyplot as plt\n",
    "import numpy as np"
   ]
  },
  {
   "cell_type": "code",
   "execution_count": 4,
   "id": "b0077f4a",
   "metadata": {},
   "outputs": [
    {
     "name": "stdout",
     "output_type": "stream",
     "text": [
      "<class 'pandas.core.frame.DataFrame'>\n",
      "RangeIndex: 2570 entries, 0 to 2569\n",
      "Data columns (total 26 columns):\n",
      " #   Column                  Non-Null Count  Dtype \n",
      "---  ------                  --------------  ----- \n",
      " 0   ï»¿COMP                 2570 non-null   object\n",
      " 1   REGIAO                  2570 non-null   object\n",
      " 2   UF                      2570 non-null   object\n",
      " 3   MUNICIPIO               2570 non-null   object\n",
      " 4   NOME_ESTABELECIMENTO    2570 non-null   object\n",
      " 5   RAZAO_SOCIAL            2570 non-null   object\n",
      " 6   DS_TIPO_UNIDADE         2570 non-null   object\n",
      " 7   DESC_NATUREZA_JURIDICA  2570 non-null   object\n",
      " 8   NO_LOGRADOURO           2570 non-null   object\n",
      " 9   NU_ENDERECO             2570 non-null   object\n",
      " 10  NO_BAIRRO               2570 non-null   object\n",
      " 11  CO_CEP                  2570 non-null   object\n",
      " 12  LEITOS_EXISTENTES       2570 non-null   object\n",
      " 13  LEITOS_SUS              2570 non-null   object\n",
      " 14  UTI_TOTAL_EXIST         2570 non-null   object\n",
      " 15  UTI_TOTAL_SUS           2570 non-null   object\n",
      " 16  UTI_ADULTO_EXIST        2570 non-null   object\n",
      " 17  UTI_ADULTO_SUS          2570 non-null   object\n",
      " 18  UTI_PEDIATRICO_EXIST    2570 non-null   object\n",
      " 19  UTI_PEDIATRICO_SUS      2570 non-null   object\n",
      " 20  UTI_NEONATAL_EXIST      2570 non-null   object\n",
      " 21  UTI_NEONATAL_SUS        2570 non-null   object\n",
      " 22  UTI_QUEIMADO_EXIST      2570 non-null   object\n",
      " 23  UTI_QUEIMADO_SUS        2570 non-null   object\n",
      " 24  UTI_CORONARIANA_EXIST   2570 non-null   object\n",
      " 25  UTI_CORONARIANA_SUS     2570 non-null   object\n",
      "dtypes: object(26)\n",
      "memory usage: 522.2+ KB\n"
     ]
    },
    {
     "data": {
      "text/plain": [
       "None"
      ]
     },
     "metadata": {},
     "output_type": "display_data"
    }
   ],
   "source": [
    "janeiro = pd.read_csv(\"JANEIRO.csv\", sep=\";\", encoding=\"latin-1\", dtype=str, low_memory=False)\n",
    "fevereiro = pd.read_csv(\"FEVEREIRO.csv\", sep=\";\", encoding=\"latin-1\", dtype=str, low_memory=False)\n",
    "marco = pd.read_csv(\"MARCO.csv\", sep=\";\", encoding=\"latin-1\", dtype=str, low_memory=False)\n",
    "abril = pd.read_csv(\"ABRIL.csv\", sep=\";\", encoding=\"latin-1\", dtype=str, low_memory=False)\n",
    "maio = pd.read_csv(\"MAIO.csv\", sep=\";\", encoding=\"latin-1\", dtype=str, low_memory=False)\n",
    "junho = pd.read_csv(\"JUNHO.csv\", sep=\";\", encoding=\"latin-1\", dtype=str, low_memory=False)\n",
    "julho = pd.read_csv(\"JULHO.csv\", sep=\";\", encoding=\"latin-1\", dtype=str, low_memory=False)\n",
    "agosto = pd.read_csv(\"AGOSTO.csv\", sep=\";\", encoding=\"latin-1\", dtype=str, low_memory=False)\n",
    "setembro = pd.read_csv(\"SETEMBRO.csv\", sep=\";\", encoding=\"latin-1\", dtype=str, low_memory=False)\n",
    "outubro = pd.read_csv(\"OUTUBRO.csv\", sep=\";\", encoding=\"latin-1\", dtype=str, low_memory=False)\n",
    "novembro = pd.read_csv(\"NOVEMBRO.csv\", sep=\";\", encoding=\"latin-1\", dtype=str, low_memory=False)\n",
    "dezembro = pd.read_csv(\"DEZEMBRO.csv\", sep=\";\", encoding=\"latin-1\", dtype=str, low_memory=False)\n",
    "\n",
    "tot_sp = pd.concat([janeiro, fevereiro, marco, abril, maio, junho, julho, agosto, setembro, outubro, novembro, dezembro], ignore_index=True)\n",
    "display(tot_sp.info())"
   ]
  },
  {
   "cell_type": "code",
   "execution_count": 5,
   "id": "569c4452",
   "metadata": {},
   "outputs": [
    {
     "name": "stdout",
     "output_type": "stream",
     "text": [
      "ZONA\n",
      "Zona Sul      917\n",
      "Zona Leste    621\n",
      "Centro        496\n",
      "Zona Norte    294\n",
      "Zona Oeste    242\n",
      "Name: count, dtype: int64\n"
     ]
    },
    {
     "data": {
      "text/html": [
       "<div>\n",
       "<style scoped>\n",
       "    .dataframe tbody tr th:only-of-type {\n",
       "        vertical-align: middle;\n",
       "    }\n",
       "\n",
       "    .dataframe tbody tr th {\n",
       "        vertical-align: top;\n",
       "    }\n",
       "\n",
       "    .dataframe thead th {\n",
       "        text-align: right;\n",
       "    }\n",
       "</style>\n",
       "<table border=\"1\" class=\"dataframe\">\n",
       "  <thead>\n",
       "    <tr style=\"text-align: right;\">\n",
       "      <th></th>\n",
       "      <th>CO_CEP</th>\n",
       "      <th>ZONA</th>\n",
       "    </tr>\n",
       "  </thead>\n",
       "  <tbody>\n",
       "    <tr>\n",
       "      <th>0</th>\n",
       "      <td>01309010</td>\n",
       "      <td>Centro</td>\n",
       "    </tr>\n",
       "    <tr>\n",
       "      <th>1</th>\n",
       "      <td>02806160</td>\n",
       "      <td>Zona Norte</td>\n",
       "    </tr>\n",
       "    <tr>\n",
       "      <th>2</th>\n",
       "      <td>01401002</td>\n",
       "      <td>Centro</td>\n",
       "    </tr>\n",
       "    <tr>\n",
       "      <th>3</th>\n",
       "      <td>04916000</td>\n",
       "      <td>Zona Sul</td>\n",
       "    </tr>\n",
       "    <tr>\n",
       "      <th>4</th>\n",
       "      <td>04556901</td>\n",
       "      <td>Zona Sul</td>\n",
       "    </tr>\n",
       "    <tr>\n",
       "      <th>5</th>\n",
       "      <td>05686902</td>\n",
       "      <td>Zona Sul</td>\n",
       "    </tr>\n",
       "    <tr>\n",
       "      <th>6</th>\n",
       "      <td>05513100</td>\n",
       "      <td>Zona Oeste</td>\n",
       "    </tr>\n",
       "    <tr>\n",
       "      <th>7</th>\n",
       "      <td>04120070</td>\n",
       "      <td>Zona Sul</td>\n",
       "    </tr>\n",
       "    <tr>\n",
       "      <th>8</th>\n",
       "      <td>04734003</td>\n",
       "      <td>Zona Sul</td>\n",
       "    </tr>\n",
       "    <tr>\n",
       "      <th>9</th>\n",
       "      <td>04304010</td>\n",
       "      <td>Zona Sul</td>\n",
       "    </tr>\n",
       "  </tbody>\n",
       "</table>\n",
       "</div>"
      ],
      "text/plain": [
       "     CO_CEP        ZONA\n",
       "0  01309010      Centro\n",
       "1  02806160  Zona Norte\n",
       "2  01401002      Centro\n",
       "3  04916000    Zona Sul\n",
       "4  04556901    Zona Sul\n",
       "5  05686902    Zona Sul\n",
       "6  05513100  Zona Oeste\n",
       "7  04120070    Zona Sul\n",
       "8  04734003    Zona Sul\n",
       "9  04304010    Zona Sul"
      ]
     },
     "metadata": {},
     "output_type": "display_data"
    }
   ],
   "source": [
    "import pandas as pd\n",
    "\n",
    "# Garantir que o CEP é numérico (sem hífen e com zeros à esquerda)\n",
    "tot_sp['CO_CEP'] = (\n",
    "    tot_sp['CO_CEP']\n",
    "    .astype(str)\n",
    "    .str.replace(r'\\D', '', regex=True)\n",
    "    .str.zfill(8)\n",
    ")\n",
    "\n",
    "def identificar_zona(cep):\n",
    "    try:\n",
    "        cep_int = int(cep[:6])  # pega apenas os 5 primeiros dígitos\n",
    "    except ValueError:\n",
    "        return 'Desconhecida'\n",
    "\n",
    "    if 0o1000 <= cep_int <= 15999:\n",
    "        return 'Centro'\n",
    "    elif 0o20000 <= cep_int <= 29999:\n",
    "        return 'Zona Norte'\n",
    "    elif 0o30000 <= cep_int <= 39999 or 80000 <= cep_int <= 84999:\n",
    "        return 'Zona Leste'\n",
    "    elif 0o40000 <= cep_int <= 49999 or 56000 <= cep_int <= 59999:\n",
    "        return 'Zona Sul'\n",
    "    elif 0o50000 <= cep_int <= 55999:\n",
    "        return 'Zona Oeste'\n",
    "    else:\n",
    "        return 'Desconhecida'\n",
    "\n",
    "# Criar nova coluna com as zonas\n",
    "tot_sp['ZONA'] = tot_sp['CO_CEP'].apply(identificar_zona)\n",
    "\n",
    "# Salvar o DataFrame consolidado em CSV\n",
    "tot_sp.to_csv(\"Consolidado_SP.csv\", sep=\";\", encoding=\"utf-8\", index=False)\n",
    "\n",
    "# Conferir contagem por zona\n",
    "print(tot_sp['ZONA'].value_counts())\n",
    "\n",
    "# Exibir amostra\n",
    "display(tot_sp[['CO_CEP', 'ZONA']].head(10))\n"
   ]
  },
  {
   "cell_type": "code",
   "execution_count": 6,
   "id": "3794b91c",
   "metadata": {},
   "outputs": [
    {
     "data": {
      "image/png": "[encoded data removed]",
      "text/plain": [
       "<Figure size 640x480 with 1 Axes>"
      ]
     },
     "metadata": {},
     "output_type": "display_data"
    }
   ],
   "source": [
    "import matplotlib.pyplot as plt\n",
    "\n",
    "tot_sp['ZONA'].value_counts().plot(kind='bar', color='skyblue')\n",
    "plt.title('Distribuição de Estabelecimentos por Zona de São Paulo')\n",
    "plt.xlabel('Zona')\n",
    "plt.ylabel('Quantidade')\n",
    "plt.xticks(rotation=0)\n",
    "plt.show()\n"
   ]
  }
 ],
 "metadata": {
  "kernelspec": {
   "display_name": "Python 3",
   "language": "python",
   "name": "python3"
  },
  "language_info": {
   "codemirror_mode": {
    "name": "ipython",
    "version": 3
   },
   "file_extension": ".py",
   "mimetype": "text/x-python",
   "name": "python",
   "nbconvert_exporter": "python",
   "pygments_lexer": "ipython3",
   "version": "3.13.1"
  }
 },
 "nbformat": 4,
 "nbformat_minor": 5
}
